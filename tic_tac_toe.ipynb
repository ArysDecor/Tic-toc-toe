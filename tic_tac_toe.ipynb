 # Importing all necessary libraries for this project
import numpy as np
import random
from time import sleep
 # Creating an empty Tic-tc-toe board
def empty_board():
   board = np.array([
                     [0,0,0],
                     [0,0,0],
                     [0,0,0]
                    ])
   return(board)
print(empty_board())

 # Check for empty places on the Tic-Tac-Toe Board
def empty_places(board):
  l = []
  for i in range(len(board)):
    for j in range(len(boa

 # Checks whether the player has three of their marks in a horizontal row
def row_winner(board, player):
    for x in range(len(board)):
        win = True
        for y in range(len(board)):
            if board[x, y] != player:
                win = False
                continue
        if win == True:
            return(win)
    return(win)
 # Checks whether the player has three of their marks in a vertical row
def col_winner(board, player):
    for x in range(len(board)):
        win = True
        for y in range(len(board)):
            if board[y][x] != player:
                win = False
                continue
        if win == True:
            return(win)
    return(win)



 # Check the diagnal rows for a winner
def diag_winner(board, player):
  win = True
  y = 0
  for x in range(len(board)):
    if board[x, x] != player:
      win = False
  if win:
    return win
  win = True
  if win:
    for x in range(len(board)):
      y = len(board) - 1 - x
      if board[x, y] != player:
        win = False
  return win
  board = np.array([
                  [0,0,1],
                  [0,1,0],
                  [0,0,0]
 ])
print(diag_winner(board, 1))


 # Evaluates Whether there is a winner or a Tie
def evaluate_game(board):
  # Winner [0 = indecisive; 1 = Player 1; 2 = Player 2; -1 = Tie]
  winner = 0
  for player in [1, 2]:
        if (row_winner(board, player) or
                col_winner(board, player) or
                diag_winner(board, player)):
            winner = player
  if np.all(board != 0) and winner == 0:
      winner = -1
  return winner

import numpy as np
import random
from time import sleep

# Dummy function to create an empty board
def empty_board():
    return np.zeros((3, 3), dtype=int)

# Dummy function to place a random move
def random_place(board, player):
    empty = [(i, j) for i in range(3) for j in range(3) if board[i][j] == 0]
    if empty:
        move = random.choice(empty)
        board[move[0]][move[1]] = player
    return board

# Dummy function to evaluate the board
def evaluate_game(board):
    # Horizontal or vertical win
    for i in range(3):
        if np.all(board[i, :] == board[i, 0]) and board[i, 0] != 0:
            return board[i, 0]
        if np.all(board[:, i] == board[0, i]) and board[0, i] != 0:
            return board[0, i]
    # Diagonal win
    if np.all(np.diag(board) == board[0, 0]) and board[0, 0] != 0:
        return board[0, 0]
    if np.all(np.diag(np.fliplr(board)) == board[0, 2]) and board[0, 2] != 0:
        return board[0, 2]
    return 0  # No winner yet

# Function definition
def tic_tac_toe():
    board = empty_board()
    print("Initial board:")
    print(board)
    sleep(1)
    
    winner = 0
    counter = 1

    while winner == 0:
        for player in [1, 2]:
            board = random_place(board, player)
            print("Board after move " + str(counter))
            print(board)
            sleep(1)
            counter += 1
            winner = evaluate_game(board)
            if winner != 0:
                break
    return winner

# Driver Code
print("Winner is player: " + str(tic_tac_toe()))






